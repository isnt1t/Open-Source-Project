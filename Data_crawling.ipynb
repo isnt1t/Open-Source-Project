{
 "cells": [
  {
   "cell_type": "code",
   "execution_count": 1,
   "metadata": {},
   "outputs": [],
   "source": [
    "import numpy as np\n",
    "import pandas as pd\n",
    "import requests\n",
    "from bs4 import BeautifulSoup"
   ]
  },
  {
   "cell_type": "code",
   "execution_count": 180,
   "metadata": {},
   "outputs": [],
   "source": [
    "def crawling(add, brand):\n",
    "    resp = requests.get(add) # 페이지 주소\n",
    "    soup = BeautifulSoup(resp.text, 'html.parser')\n",
    "    \n",
    "    # 편의점 이름\n",
    "    tag1 = \"float-left font-\" + brand + \" font-weight-bold\"\n",
    "    #\"float-left font-cu font-weight-bold\"\n",
    "    get_name = soup.find(\"small\", tag1) # 편의점 이름을 가져오기 위한 small 태그 select\n",
    "    name = get_name.get_text() \n",
    "\n",
    "    # 상품 분류\n",
    "    get_type = soup.find_all('small', 'float-right font-weight-bold')\n",
    "    type_ = []\n",
    "    for u in get_type:\n",
    "        type_.append(u.get_text())\n",
    "    size = len(type_)\n",
    "    \n",
    "    # 상품 이름\n",
    "    get_item = soup.find_all('strong') \n",
    "    item = []\n",
    "    for u in get_item:\n",
    "        item.append(u.get_text())\n",
    "    item = item[1:size + 1] \n",
    "\n",
    "    # 상품 가격 (여기서는 우선 개당 가격을 가져 옴)\n",
    "    get_price = soup.find_all('span', 'text-muted small')\n",
    "    price = []\n",
    "    for u in get_price:\n",
    "        tmp = u.get_text()[1:-1][0:-1]\n",
    "        tmp_new = tmp.replace(\",\", \"\")\n",
    "        price.append(int(tmp_new))\n",
    "\n",
    "    # 행사 유형\n",
    "    tag2 = 'badge bg-' + brand + ' text-white'\n",
    "    #badge bg-cu text-white\n",
    "    get_event_type = soup.find_all('span', tag2)\n",
    "    event_type = []\n",
    "    for u in get_event_type:\n",
    "        event_type.append(u.get_text())\n",
    "\n",
    "    # 상품 이미지\n",
    "    get_img = soup.find_all('img', 'prod_img')\n",
    "    img = []\n",
    "    for u in get_img:\n",
    "        img.append(u.get('src'))\n",
    "    \n",
    "    return name, item, type_, price, event_type, img"
   ]
  },
  {
   "cell_type": "code",
   "execution_count": 105,
   "metadata": {},
   "outputs": [],
   "source": [
    "def appendData(data, name, item, type_, price, event_type, img):\n",
    "    for i in range(len(img)):\n",
    "        real_price = int(price[i]) * int(event_type[i][0])\n",
    "        data = data.append({'편의점 명' : name, '상품 명' : item[i], '분류' : type_[i], '개당 가격' :price[i], '행사 유형' : event_type[i], '이미지' : img[i]}, ignore_index = True)\n",
    "        \n",
    "    return data"
   ]
  },
  {
   "cell_type": "code",
   "execution_count": 187,
   "metadata": {},
   "outputs": [],
   "source": [
    "brand_dic = {'cu' : '6', 'gs25' : '9', 'seven' : '9', 'ministop' : '5', 'emart24' : '9'}"
   ]
  },
  {
   "cell_type": "code",
   "execution_count": 182,
   "metadata": {},
   "outputs": [],
   "source": [
    "def getData(brand):\n",
    "    data = pd.DataFrame(columns = ('편의점 명', '상품 명', '분류', '개당 가격', '행사 유형', '이미지'))\n",
    "    for i in range(1, int(brand_dic[brand]) + 1):\n",
    "        name, item, type_, price, event_type, img = crawling('https://pyony.com/brands/' + brand + '/?page=' + str(i) + '&event_type=&category=&item=100&sort=&q=', brand)\n",
    "        data = appendData(data, name, item, type_, price, event_type, img)\n",
    "    \n",
    "    return data\n",
    "    "
   ]
  },
  {
   "cell_type": "code",
   "execution_count": 183,
   "metadata": {
    "scrolled": true
   },
   "outputs": [],
   "source": [
    "dataCU = getData('cu')"
   ]
  },
  {
   "cell_type": "code",
   "execution_count": 185,
   "metadata": {},
   "outputs": [],
   "source": [
    "dataGS25 = getData('gs25')"
   ]
  },
  {
   "cell_type": "code",
   "execution_count": 121,
   "metadata": {},
   "outputs": [],
   "source": [
    "dataCU.to_csv(\"data.csv\", mode = 'a', header = True, encoding = 'ms949') #ipynb과 같은 경로에 csv파일 생성"
   ]
  }
 ],
 "metadata": {
  "kernelspec": {
   "display_name": "Python 3",
   "language": "python",
   "name": "python3"
  },
  "language_info": {
   "codemirror_mode": {
    "name": "ipython",
    "version": 3
   },
   "file_extension": ".py",
   "mimetype": "text/x-python",
   "name": "python",
   "nbconvert_exporter": "python",
   "pygments_lexer": "ipython3",
   "version": "3.6.5"
  }
 },
 "nbformat": 4,
 "nbformat_minor": 2
}

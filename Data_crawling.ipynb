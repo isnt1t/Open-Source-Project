{
 "cells": [
  {
   "cell_type": "code",
   "execution_count": 1,
   "metadata": {},
   "outputs": [],
   "source": [
    "import numpy as np\n",
    "import pandas as pd\n",
    "import requests\n",
    "from bs4 import BeautifulSoup"
   ]
  },
  {
   "cell_type": "code",
   "execution_count": 2,
   "metadata": {},
   "outputs": [],
   "source": [
    "data = pd.DataFrame(columns = ('편의점 명', '상품 명', '분류', '개당 가격', '행사 유형', '이미지'))"
   ]
  },
  {
   "cell_type": "code",
   "execution_count": 30,
   "metadata": {},
   "outputs": [],
   "source": [
    "resp = requests.get('https://pyony.com/brands/cu/?page=1&event_type=&category=&item=100&sort=&q=')\n",
    "soup = BeautifulSoup(resp.text, 'html.parser')\n",
    "\n",
    "# 편의점 이름\n",
    "get_name = soup.find(\"small\", \"float-left font-cu font-weight-bold\") # 편의점 이름을 가져오기 위한 small 태그 select\n",
    "name = get_name.get_text() \n",
    "\n",
    "# 상품 이름\n",
    "get_item = soup.find_all('strong') # 상품 이름을 가져오기 위한 strong 태그 select\n",
    "item = []\n",
    "for u in get_item:\n",
    "    item.append(u.get_text())\n",
    "item = item[1:101] # 한 페이지에서 100개의 상품 명 select\n",
    "\n",
    "# 상품 분류\n",
    "get_type = soup.find_all('small', 'float-right font-weight-bold')\n",
    "type_ = []\n",
    "for u in get_type:\n",
    "    type_.append(u.get_text())\n",
    "\n",
    "# 상품 가격 (여기서는 우선 개당 가격을 가져 옴)\n",
    "get_price = soup.find_all('span', 'text-muted small')\n",
    "price = []\n",
    "for u in get_price:\n",
    "    tmp = u.get_text()[1:-1][0:-1]\n",
    "    tmp_new = tmp.replace(\",\", \"\")\n",
    "    price.append(tmp_new)\n",
    "\n",
    "# 행사 유형\n",
    "get_event_type = soup.find_all('span', 'badge bg-cu text-white')\n",
    "event_type = []\n",
    "for u in get_event_type:\n",
    "    event_type.append(u.get_text())\n",
    "\n",
    "# 상품 이미지\n",
    "get_img = soup.find_all('img', 'prod_img')\n",
    "img = []\n",
    "for u in get_img:\n",
    "    img.append(u.get('src'))"
   ]
  },
  {
   "cell_type": "code",
   "execution_count": 32,
   "metadata": {},
   "outputs": [],
   "source": [
    "for i in range(100):\n",
    "    real_price = int(price[i]) * int(event_type[i][0])\n",
    "    data = data.append({'편의점 명' : name, '상품 명' : item[i], '분류' : type_[i], '개당 가격' :price[i], '행사 유형' : event_type[i], '이미지' : img[i]}, ignore_index = True)"
   ]
  },
  {
   "cell_type": "code",
   "execution_count": 34,
   "metadata": {
    "scrolled": true
   },
   "outputs": [
    {
     "data": {
      "text/html": [
       "<div>\n",
       "<style scoped>\n",
       "    .dataframe tbody tr th:only-of-type {\n",
       "        vertical-align: middle;\n",
       "    }\n",
       "\n",
       "    .dataframe tbody tr th {\n",
       "        vertical-align: top;\n",
       "    }\n",
       "\n",
       "    .dataframe thead th {\n",
       "        text-align: right;\n",
       "    }\n",
       "</style>\n",
       "<table border=\"1\" class=\"dataframe\">\n",
       "  <thead>\n",
       "    <tr style=\"text-align: right;\">\n",
       "      <th></th>\n",
       "      <th>편의점 명</th>\n",
       "      <th>상품 명</th>\n",
       "      <th>분류</th>\n",
       "      <th>개당 가격</th>\n",
       "      <th>행사 유형</th>\n",
       "      <th>이미지</th>\n",
       "    </tr>\n",
       "  </thead>\n",
       "  <tbody>\n",
       "    <tr>\n",
       "      <th>0</th>\n",
       "      <td>CU(씨유)</td>\n",
       "      <td>2080)센서티브미세모</td>\n",
       "      <td>생활용품</td>\n",
       "      <td>1600</td>\n",
       "      <td>1+1</td>\n",
       "      <td>http://cdn2.bgfretail.com/bgfbrand/files/produ...</td>\n",
       "    </tr>\n",
       "    <tr>\n",
       "      <th>1</th>\n",
       "      <td>CU(씨유)</td>\n",
       "      <td>2080)치약</td>\n",
       "      <td>생활용품</td>\n",
       "      <td>1750</td>\n",
       "      <td>1+1</td>\n",
       "      <td>http://bgf-cu.xcache.kinxcdn.com/product/88010...</td>\n",
       "    </tr>\n",
       "    <tr>\n",
       "      <th>2</th>\n",
       "      <td>CU(씨유)</td>\n",
       "      <td>46cm)초극세모칫솔</td>\n",
       "      <td>생활용품</td>\n",
       "      <td>1750</td>\n",
       "      <td>1+1</td>\n",
       "      <td>http://bgf-cu.xcache.kinxcdn.com/product/88010...</td>\n",
       "    </tr>\n",
       "    <tr>\n",
       "      <th>3</th>\n",
       "      <td>CU(씨유)</td>\n",
       "      <td>46cm)쿨민트치약</td>\n",
       "      <td>생활용품</td>\n",
       "      <td>1750</td>\n",
       "      <td>1+1</td>\n",
       "      <td>http://bgf-cu.xcache.kinxcdn.com/product/88010...</td>\n",
       "    </tr>\n",
       "    <tr>\n",
       "      <th>4</th>\n",
       "      <td>CU(씨유)</td>\n",
       "      <td>CJ)NEW컨디션환</td>\n",
       "      <td>생활용품</td>\n",
       "      <td>1450</td>\n",
       "      <td>1+1</td>\n",
       "      <td>http://bgf-cu.xcache.kinxcdn.com/product/88094...</td>\n",
       "    </tr>\n",
       "  </tbody>\n",
       "</table>\n",
       "</div>"
      ],
      "text/plain": [
       "    편의점 명          상품 명    분류 개당 가격 행사 유형  \\\n",
       "0  CU(씨유)  2080)센서티브미세모  생활용품  1600   1+1   \n",
       "1  CU(씨유)       2080)치약  생활용품  1750   1+1   \n",
       "2  CU(씨유)   46cm)초극세모칫솔  생활용품  1750   1+1   \n",
       "3  CU(씨유)    46cm)쿨민트치약  생활용품  1750   1+1   \n",
       "4  CU(씨유)    CJ)NEW컨디션환  생활용품  1450   1+1   \n",
       "\n",
       "                                                 이미지  \n",
       "0  http://cdn2.bgfretail.com/bgfbrand/files/produ...  \n",
       "1  http://bgf-cu.xcache.kinxcdn.com/product/88010...  \n",
       "2  http://bgf-cu.xcache.kinxcdn.com/product/88010...  \n",
       "3  http://bgf-cu.xcache.kinxcdn.com/product/88010...  \n",
       "4  http://bgf-cu.xcache.kinxcdn.com/product/88094...  "
      ]
     },
     "execution_count": 34,
     "metadata": {},
     "output_type": "execute_result"
    }
   ],
   "source": [
    "data.head()"
   ]
  },
  {
   "cell_type": "code",
   "execution_count": 38,
   "metadata": {},
   "outputs": [],
   "source": [
    "data.to_csv(\"data_cu_3.csv\", mode = 'a', header = True, encoding = 'ms949') #ipynb과 같은 경로에 csv파일 생성"
   ]
  },
  {
   "cell_type": "code",
   "execution_count": null,
   "metadata": {},
   "outputs": [],
   "source": []
  }
 ],
 "metadata": {
  "kernelspec": {
   "display_name": "Python 3",
   "language": "python",
   "name": "python3"
  },
  "language_info": {
   "codemirror_mode": {
    "name": "ipython",
    "version": 3
   },
   "file_extension": ".py",
   "mimetype": "text/x-python",
   "name": "python",
   "nbconvert_exporter": "python",
   "pygments_lexer": "ipython3",
   "version": "3.6.5"
  }
 },
 "nbformat": 4,
 "nbformat_minor": 2
}
